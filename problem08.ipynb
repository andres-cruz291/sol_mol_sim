{
 "cells": [
  {
   "cell_type": "code",
   "execution_count": 1,
   "metadata": {},
   "outputs": [
    {
     "name": "stderr",
     "output_type": "stream",
     "text": [
      "Matplotlib created a temporary config/cache directory at /tmp/matplotlib-8s4v_xfn because the default path (/home/mi/marcelli/.cache/matplotlib) is not a writable directory; it is highly recommended to set the MPLCONFIGDIR environment variable to a writable directory, in particular to speed up the import of Matplotlib and to better support multiprocessing.\n"
     ]
    }
   ],
   "source": [
    "import numpy as np\n",
    "import h5py\n",
    "import matplotlib.pyplot as plt\n",
    "from tqdm import tqdm"
   ]
  },
  {
   "cell_type": "markdown",
   "metadata": {},
   "source": [
    "### Problem 8: Widom’s Test Particle Insertion Method \n",
    "\n",
    "Widom’s test particle insertion is a powerful method to estimate the excess chemical potential $\\mu^{\\text{ex}}$ of a fluid from equilibrium configurations.  \n",
    "\n",
    "The key idea is that instead of running a grand-canonical simulation, one can compute the probability cost of inserting an extra particle into an existing system by sampling the Boltzmann factor of the insertion energy.\n",
    "\n",
    "The excess chemical potential is defined via:\n",
    "\n",
    "$$\n",
    "\\mu^{\\text{ex}} = -k_B T \\ln \\left\\langle \\exp(-\\beta \\Delta U) \\right\\rangle\n",
    "$$\n",
    "\n",
    "where:\n",
    "\n",
    "- $k_B$ is the Boltzmann constant\n",
    "- $T$ is the temperature\n",
    "- $\\beta = 1/(k_B T)$\n",
    "- $\\Delta U$ is the potential energy change caused by inserting a test particle at a random location\n",
    "\n",
    "\n",
    "Imagine we try to insert an extra particle at a random position in the system:\n",
    "\n",
    "- If the local environment is dense (high overlap), $\\Delta U$ is very large and $\\exp(-\\beta \\Delta U)$ is nearly zero.\n",
    "- If the local environment is favorable (low overlap), $\\exp(-\\beta \\Delta U)$ contributes more.\n",
    "\n",
    "Averaging these Boltzmann factors over many insertions and many independent configurations allows us to estimate the free energy cost of adding a particle.\n",
    "\n",
    "#### Algorithm Steps\n",
    "\n",
    "**Prepare Configurations**  \n",
    "- Run an NVT molecular dynamics simulation to generate *independent* equilibrium snapshots.\n",
    "- For periodic boundary conditions, *unwrap* coordinates using box images and then *wrap* them back into the primary box:\n",
    "\n",
    "$$\n",
    "\\mathbf{r}_i^{\\text{wrapped}} = (\\mathbf{r}_i^{\\text{unwrapped}}) \\bmod L\n",
    "$$\n",
    "\n",
    "**Perform M Random Insertions per Configuration**  \n",
    "- For each insertion:\n",
    "  - Sample a test particle position uniformly in $[0, L)^3$:\n",
    "\n",
    "$$\n",
    "\\mathbf{r}_{\\text{insert}} \\sim \\text{Uniform}(0, L)\n",
    "$$\n",
    "\n",
    "  - Compute separations to all N particles, applying **minimum image convention**:\n",
    "\n",
    "$$\n",
    "\\mathbf{r}_{ij} = \\mathbf{r}_i - \\mathbf{r}_{\\text{insert}} - L \\cdot \\text{nint}\\left(\\frac{\\mathbf{r}_i - \\mathbf{r}_{\\text{insert}}}{L}\\right)\n",
    "$$\n",
    "\n",
    "  - Compute pairwise Lennard-Jones energies:\n",
    "\n",
    "$$\n",
    "u(r) = 4\\epsilon \\left[ \\left(\\frac{\\sigma}{r}\\right)^{12} - \\left(\\frac{\\sigma}{r}\\right)^6 \\right]\n",
    "$$\n",
    "\n",
    "  - Sum over all interactions to get $\\Delta U$:\n",
    "\n",
    "$$\n",
    "\\Delta U = \\sum_{i=1}^{N} u(|\\mathbf{r}_{ij}|)\n",
    "$$\n",
    "\n",
    "  - Store $\\exp(-\\beta \\Delta U)$.\n",
    "\n",
    "**Average over Insertions and Configurations**  \n",
    "- Collect all values of $\\exp(-\\beta \\Delta U)$ from all configurations.\n",
    "- Compute the sample average:\n",
    "\n",
    "$$\n",
    "\\left\\langle \\exp(-\\beta \\Delta U) \\right\\rangle \\approx \\frac{1}{M_{\\text{total}}} \\sum_{k=1}^{M_{\\text{total}}} \\exp(-\\beta \\Delta U_k)\n",
    "$$\n",
    "\n",
    "**Estimate Excess Chemical Potential**  \n",
    "- Use:\n",
    "\n",
    "$$\n",
    "\\mu^{\\text{ex}} = -k_B T \\ln \\left\\langle \\exp(-\\beta \\Delta U) \\right\\rangle\n",
    "$$\n",
    "\n",
    "- Also estimate the **standard error** via standard deviation:\n",
    "\n",
    "$$\n",
    "\\sigma_{\\mu} \\approx \\frac{\\text{Std}\\left[\\exp(-\\beta \\Delta U)\\right]}{\\sqrt{M_{\\text{total}}} \\left\\langle \\exp(-\\beta \\Delta U) \\right\\rangle} \\cdot k_B T\n",
    "$$\n",
    "\n",
    "#####  Implementation Notes\n",
    "\n",
    "- Positions **must** be wrapped into the primary simulation box before insertions, or minimum image calculations will be wrong.\n",
    "- Periodic boundary conditions are handled using the **minimum image convention**.\n",
    "- Sampling over many independent configurations improves statistical convergence.\n",
    "- The number of insertions $M$ per configuration can be increased until desired precision (e.g., 10% relative error) is achieved."
   ]
  },
  {
   "cell_type": "code",
   "execution_count": 2,
   "metadata": {},
   "outputs": [
    {
     "name": "stdout",
     "output_type": "stream",
     "text": [
      "Loaded configurations: (51, 64, 3)\n",
      "Box lenght: [6. 6. 6.]\n"
     ]
    }
   ],
   "source": [
    "with h5py.File(\"problem08.h5\", \"r\") as f:\n",
    "    positions = np.array(f[\"/particles/all/position/value\"]) # shape = (n_frames, 64, 3)\n",
    "    box_length = np.diagonal(f[\"/particles/all/box/edges\"])\n",
    "    images = np.array(f[\"particles/all/image/value\"])\n",
    "\n",
    "    # Unwrap and recenter positions\n",
    "    positions -= box_length * images\n",
    "    positions += box_length / 2\n",
    "\n",
    "print(\"Loaded configurations:\", positions.shape)\n",
    "print(\"Box lenght:\", box_length)"
   ]
  },
  {
   "cell_type": "code",
   "execution_count": 3,
   "metadata": {},
   "outputs": [
    {
     "name": "stdout",
     "output_type": "stream",
     "text": [
      "\n",
      " Testing k=1, M=10\n"
     ]
    },
    {
     "name": "stderr",
     "output_type": "stream",
     "text": [
      "100%|██████████| 51/51 [00:00<00:00, 1679.64it/s]\n"
     ]
    },
    {
     "name": "stdout",
     "output_type": "stream",
     "text": [
      "μ_ex = -1.4742 ± 0.1662 (relative error = 11.28%)\n",
      "\n",
      " Testing k=2, M=100\n"
     ]
    },
    {
     "name": "stderr",
     "output_type": "stream",
     "text": [
      "100%|██████████| 51/51 [00:00<00:00, 180.54it/s]\n"
     ]
    },
    {
     "name": "stdout",
     "output_type": "stream",
     "text": [
      "μ_ex = -1.5751 ± 0.0540 (relative error = 3.43%)\n",
      "\n",
      " Testing k=5, M=100000\n"
     ]
    },
    {
     "name": "stderr",
     "output_type": "stream",
     "text": [
      "100%|██████████| 51/51 [04:10<00:00,  4.92s/it]\n"
     ]
    },
    {
     "name": "stdout",
     "output_type": "stream",
     "text": [
      "μ_ex = -1.5762 ± 0.0017 (relative error = 0.11%)\n",
      "\n",
      " Testing k=7, M=10000000\n"
     ]
    },
    {
     "name": "stderr",
     "output_type": "stream",
     "text": [
      "100%|██████████| 51/51 [6:31:16<00:00, 460.32s/it]  \n"
     ]
    },
    {
     "name": "stdout",
     "output_type": "stream",
     "text": [
      "μ_ex = -1.5762 ± 0.0002 (relative error = 0.01%)\n"
     ]
    }
   ],
   "source": [
    "def widom_insertion(config, box_length, beta, M, epsilon=1.0, sigma=1.0):\n",
    "    N = config.shape[0]\n",
    "    samples = []\n",
    "    \n",
    "    for _ in range(M):\n",
    "        r_insert = np.random.uniform(0, box_length, 3)\n",
    "        rij = config - r_insert\n",
    "        rij -= box_length * np.round(rij / box_length)\n",
    "        dist2 = np.sum(rij**2, axis=1)\n",
    "        inv_r6 = (sigma**2 / dist2)**3\n",
    "        lj_energy = 4 * epsilon * (inv_r6**2 - inv_r6)\n",
    "        delta_U = np.sum(lj_energy)\n",
    "        samples.append(np.exp(-beta * delta_U))\n",
    "        \n",
    "    return np.array(samples)\n",
    "\n",
    "def estimate_mu_ex(all_samples, beta):\n",
    "    mean_B = np.mean(all_samples)\n",
    "    stderr_B = np.std(all_samples, ddof=1) / np.sqrt(len(all_samples))\n",
    "    mu_ex = -np.log(mean_B) / beta\n",
    "    mu_ex_err = stderr_B / mean_B / beta\n",
    "    return mu_ex, mu_ex_err\n",
    "\n",
    "beta = 1 / 1.5\n",
    "k_values = [1, 2, 5, 7]\n",
    "results = []\n",
    "\n",
    "for k in k_values:\n",
    "    M = 10 ** k\n",
    "    print(f\"\\n Testing k={k}, M={M}\")\n",
    "    all_exp_samples = []\n",
    "\n",
    "    for config in tqdm(positions):\n",
    "        all_exp_samples.extend(widom_insertion(config, box_length, beta, M))\n",
    "    \n",
    "    all_exp_samples = np.array(all_exp_samples)\n",
    "    mu_ex, mu_ex_err = estimate_mu_ex(all_exp_samples, beta)\n",
    "    relative_error = mu_ex_err / abs(mu_ex)\n",
    "    \n",
    "    print(f\"μ_ex = {mu_ex:.4f} ± {mu_ex_err:.4f} (relative error = {relative_error:.2%})\")\n",
    "    results.append((k, M, mu_ex, mu_ex_err, relative_error))\n"
   ]
  },
  {
   "cell_type": "code",
   "execution_count": 4,
   "metadata": {},
   "outputs": [
    {
     "name": "stdout",
     "output_type": "stream",
     "text": [
      "\n",
      "Summary:\n",
      "k   M        mu_ex       error       rel_error\n",
      "1   10        -1.4742  ± 0.1662   (11.28%)\n",
      "2   100       -1.5751  ± 0.0540   (3.43%)\n",
      "5   100000    -1.5762  ± 0.0017   (0.11%)\n",
      "7   10000000  -1.5762  ± 0.0002   (0.01%)\n"
     ]
    },
    {
     "data": {
      "image/png": "[encoded data removed]",
      "text/plain": [
       "<Figure size 640x480 with 1 Axes>"
      ]
     },
     "metadata": {},
     "output_type": "display_data"
    }
   ],
   "source": [
    "print(\"\\nSummary:\")\n",
    "print(\"k   M        mu_ex       error       rel_error\")\n",
    "for k, M, mu, err, rel in results:\n",
    "    print(f\"{k:<3} {M:<9} {mu:.4f}  ± {err:.4f}   ({rel:.2%})\")\n",
    "\n",
    "ks, Ms, mus, errs, rels = zip(*results)\n",
    "plt.errorbar(Ms, mus, yerr=errs, fmt='o-')\n",
    "plt.xscale('log')\n",
    "plt.xlabel('M (number of insertions per config)')\n",
    "plt.ylabel(r'$\\mu^{\\mathrm{ex}}$')\n",
    "plt.show()\n"
   ]
  }
 ],
 "metadata": {
  "kernelspec": {
   "display_name": "usr",
   "language": "python",
   "name": "python3"
  },
  "language_info": {
   "codemirror_mode": {
    "name": "ipython",
    "version": 3
   },
   "file_extension": ".py",
   "mimetype": "text/x-python",
   "name": "python",
   "nbconvert_exporter": "python",
   "pygments_lexer": "ipython3",
   "version": "3.11.2"
  }
 },
 "nbformat": 4,
 "nbformat_minor": 2
}
